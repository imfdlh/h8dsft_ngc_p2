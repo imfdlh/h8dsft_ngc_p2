{
 "cells": [
  {
   "cell_type": "markdown",
   "id": "20913946",
   "metadata": {
    "toc": true
   },
   "source": [
    "<h1>Table of Contents<span class=\"tocSkip\"></span></h1>\n",
    "<div class=\"toc\"><ul class=\"toc-item\"><li><span><a href=\"#Introduction\" data-toc-modified-id=\"Introduction-1\"><span class=\"toc-item-num\">1&nbsp;&nbsp;</span>Introduction</a></span></li><li><span><a href=\"#Soal-1\" data-toc-modified-id=\"Soal-1-2\"><span class=\"toc-item-num\">2&nbsp;&nbsp;</span>Soal 1</a></span></li><li><span><a href=\"#Soal-2\" data-toc-modified-id=\"Soal-2-3\"><span class=\"toc-item-num\">3&nbsp;&nbsp;</span>Soal 2</a></span></li><li><span><a href=\"#Soal-3\" data-toc-modified-id=\"Soal-3-4\"><span class=\"toc-item-num\">4&nbsp;&nbsp;</span>Soal 3</a></span></li><li><span><a href=\"#Soal-4\" data-toc-modified-id=\"Soal-4-5\"><span class=\"toc-item-num\">5&nbsp;&nbsp;</span>Soal 4</a></span></li></ul></div>"
   ]
  },
  {
   "cell_type": "markdown",
   "id": "13838044",
   "metadata": {},
   "source": [
    "# Introduction\n",
    "\n",
    "**Name:** Fadilah Nur Imani\n",
    "<br>\n",
    "**Class/Batch/Phase:** FTDS/001/2\n",
    "<br>\n",
    "**Nongraded Challenge:** 2"
   ]
  },
  {
   "cell_type": "code",
   "execution_count": 1,
   "id": "abb51b58",
   "metadata": {
    "ExecuteTime": {
     "end_time": "2021-09-04T22:26:11.911476Z",
     "start_time": "2021-09-04T22:26:07.748926Z"
    }
   },
   "outputs": [],
   "source": [
    "import tensorflow as tf\n",
    "from tensorflow import keras\n",
    "\n",
    "import numpy as np\n",
    "\n",
    "np.random.seed(42)\n",
    "\n",
    "%matplotlib inline\n",
    "import matplotlib as mpl\n",
    "import matplotlib.pyplot as plt"
   ]
  },
  {
   "cell_type": "markdown",
   "id": "9c367d91",
   "metadata": {},
   "source": [
    "1. Build 2 50x2 dimension Tensor with random binary values and their probability of 0 and 1 is 0.5\n",
    "2. Use the first generated tensor as target, and the other vector as prediction. We will use these vectors to learn custom losses and metrics.\n",
    "3. Build the following losses used for classification with custom functions:\n",
    "    - Cross Entropy Loss\n",
    "    - KL-Diverge\n",
    "    - Hinge Loss\n",
    "    \n",
    "Use the loss to compare the two tensors that you have built previously. Compare the result of your custom function with the default loss function provided by Keras.\n",
    "\n",
    "4. Build F1 score calculation with custom metrics."
   ]
  },
  {
   "cell_type": "markdown",
   "id": "8e04c830",
   "metadata": {},
   "source": [
    "# Soal 1\n",
    "Build 2 50x2 dimension Tensor with random binary values and their probability of 0 and 1 is 0.5"
   ]
  },
  {
   "cell_type": "code",
   "execution_count": 2,
   "id": "e7f9f3b0",
   "metadata": {
    "ExecuteTime": {
     "end_time": "2021-09-04T22:26:11.917366Z",
     "start_time": "2021-09-04T22:26:11.913376Z"
    }
   },
   "outputs": [],
   "source": [
    "# np.random.seed(42)\n",
    "# array1 = np.random.choice([0,1], (50,1),p=[0.5,0.5])\n",
    "\n",
    "# np.random.seed(0)\n",
    "# array2 = np.random.choice([0,1], (50,1),p=[0.5,0.5])"
   ]
  },
  {
   "cell_type": "code",
   "execution_count": 3,
   "id": "b7e97d26",
   "metadata": {
    "ExecuteTime": {
     "end_time": "2021-09-04T22:26:11.931328Z",
     "start_time": "2021-09-04T22:26:11.919361Z"
    }
   },
   "outputs": [],
   "source": [
    "# tensor1 = tf.constant(array1)\n",
    "# tensor2 = tf.constant(array2)"
   ]
  },
  {
   "cell_type": "code",
   "execution_count": 4,
   "id": "c6ba3928",
   "metadata": {
    "ExecuteTime": {
     "end_time": "2021-09-04T22:26:11.985857Z",
     "start_time": "2021-09-04T22:26:11.939309Z"
    }
   },
   "outputs": [],
   "source": [
    "prob1 = tf.random.uniform(\n",
    "    (50, 1), minval=0, maxval=1, dtype=tf.dtypes.float32, seed=1, name=None\n",
    ")\n",
    "prob2 = tf.random.uniform(\n",
    "    (50, 1), minval=0, maxval=1, dtype=tf.dtypes.float32, seed=2, name=None\n",
    ")\n",
    "binary1 = tf.where(prob1>0.5,1.0,0.0)\n",
    "binary2 = tf.where(prob2>0.5,1.0,0.0)"
   ]
  },
  {
   "cell_type": "markdown",
   "id": "4f80675e",
   "metadata": {},
   "source": [
    "# Soal 2\n",
    "Use the first generated tensor as target, and the other vector as prediction. We will use these vectors to learn custom losses and metrics."
   ]
  },
  {
   "cell_type": "code",
   "execution_count": 5,
   "id": "540e944b",
   "metadata": {
    "ExecuteTime": {
     "end_time": "2021-09-04T22:26:11.997791Z",
     "start_time": "2021-09-04T22:26:11.987818Z"
    }
   },
   "outputs": [],
   "source": [
    "y_true = tf.concat([prob1,binary1],1)\n",
    "y_pred = tf.concat([prob2,binary2],1)"
   ]
  },
  {
   "cell_type": "code",
   "execution_count": 6,
   "id": "76bc31f8",
   "metadata": {
    "ExecuteTime": {
     "end_time": "2021-09-04T22:26:12.010761Z",
     "start_time": "2021-09-04T22:26:12.000784Z"
    }
   },
   "outputs": [],
   "source": [
    "y_true_proba = y_true[0:,0]\n",
    "y_pred_proba = y_pred[0:,0]\n",
    "\n",
    "y_true = y_true[0:,1]\n",
    "y_pred = y_pred[0:,1]"
   ]
  },
  {
   "cell_type": "markdown",
   "id": "55009f7d",
   "metadata": {},
   "source": [
    "# Soal 3\n",
    "Build the following losses used for classification with custom functions:"
   ]
  },
  {
   "cell_type": "markdown",
   "id": "743e9e46",
   "metadata": {},
   "source": [
    "- **Cross Entropy Loss**\n"
   ]
  },
  {
   "cell_type": "code",
   "execution_count": 7,
   "id": "af19a20d",
   "metadata": {
    "ExecuteTime": {
     "end_time": "2021-09-04T22:26:12.021727Z",
     "start_time": "2021-09-04T22:26:12.013748Z"
    }
   },
   "outputs": [],
   "source": [
    "def cross_entropy(y_true:np.ndarray, y_pred:np.ndarray):\n",
    "    return (-1/len(y_true))*sum((y_true*np.log(y_pred)) + ((1-y_true)*np.log(1-y_pred)))"
   ]
  },
  {
   "cell_type": "code",
   "execution_count": 8,
   "id": "c4c799aa",
   "metadata": {
    "ExecuteTime": {
     "end_time": "2021-09-04T22:26:12.055637Z",
     "start_time": "2021-09-04T22:26:12.030704Z"
    }
   },
   "outputs": [
    {
     "name": "stdout",
     "output_type": "stream",
     "text": [
      "Cross entropy Loss Custom: 1.0200276\n"
     ]
    }
   ],
   "source": [
    "print(\"Cross entropy Loss Custom:\",cross_entropy(y_true, y_pred_proba).numpy())"
   ]
  },
  {
   "cell_type": "code",
   "execution_count": 9,
   "id": "cf544b51",
   "metadata": {
    "ExecuteTime": {
     "end_time": "2021-09-04T22:26:12.074586Z",
     "start_time": "2021-09-04T22:26:12.059626Z"
    }
   },
   "outputs": [
    {
     "name": "stdout",
     "output_type": "stream",
     "text": [
      "Cross entropy Loss Keras: 1.020027\n"
     ]
    }
   ],
   "source": [
    "keras_cross_entropy = tf.keras.losses.BinaryCrossentropy()\n",
    "print(\"Cross entropy Loss Keras:\",keras_cross_entropy(y_true, y_pred_proba).numpy())"
   ]
  },
  {
   "cell_type": "markdown",
   "id": "9ab1fc23",
   "metadata": {},
   "source": [
    "- **KL-Diverge**"
   ]
  },
  {
   "cell_type": "code",
   "execution_count": 10,
   "id": "a20cad16",
   "metadata": {
    "ExecuteTime": {
     "end_time": "2021-09-04T22:26:12.082564Z",
     "start_time": "2021-09-04T22:26:12.077579Z"
    }
   },
   "outputs": [],
   "source": [
    "def kl_diverge(y_true_proba:np.ndarray, y_pred_proba:np.ndarray):\n",
    "    return sum(y_true_proba*np.log(y_true_proba/y_pred_proba))"
   ]
  },
  {
   "cell_type": "code",
   "execution_count": 11,
   "id": "d350c41d",
   "metadata": {
    "ExecuteTime": {
     "end_time": "2021-09-04T22:26:12.114479Z",
     "start_time": "2021-09-04T22:26:12.084559Z"
    }
   },
   "outputs": [
    {
     "name": "stdout",
     "output_type": "stream",
     "text": [
      "KL-Diverge Loss Custom: 15.019989\n"
     ]
    }
   ],
   "source": [
    "print(\"KL-Diverge Loss Custom:\",kl_diverge(y_true_proba, y_pred_proba).numpy())"
   ]
  },
  {
   "cell_type": "code",
   "execution_count": 12,
   "id": "51a80507",
   "metadata": {
    "ExecuteTime": {
     "end_time": "2021-09-04T22:26:12.129439Z",
     "start_time": "2021-09-04T22:26:12.116474Z"
    }
   },
   "outputs": [
    {
     "name": "stdout",
     "output_type": "stream",
     "text": [
      "KL-Diverge Loss Keras: 15.019989\n"
     ]
    }
   ],
   "source": [
    "keras_kl_diverge = tf.keras.losses.KLDivergence()\n",
    "print(\"KL-Diverge Loss Keras:\",keras_kl_diverge(y_true_proba, y_pred_proba).numpy())"
   ]
  },
  {
   "cell_type": "markdown",
   "id": "4db29cc8",
   "metadata": {},
   "source": [
    "- **Hinge Loss**"
   ]
  },
  {
   "cell_type": "code",
   "execution_count": 13,
   "id": "e9749e87",
   "metadata": {
    "ExecuteTime": {
     "end_time": "2021-09-04T22:26:12.138415Z",
     "start_time": "2021-09-04T22:26:12.131445Z"
    }
   },
   "outputs": [],
   "source": [
    "def hinge(y_true:np.ndarray, y_pred:np.ndarray):\n",
    "    # replace 0=-1\n",
    "    new_y_true = np.array([-1 if i==0 else i for i in y_true])\n",
    "    new_y_pred = np.array([-1 if i==0 else i for i in y_pred])\n",
    "    \n",
    "    hinge_loss = np.mean([max(0, 1-x*y) for x, y in zip(new_y_true, new_y_pred)])\n",
    "    return hinge_loss"
   ]
  },
  {
   "cell_type": "code",
   "execution_count": 14,
   "id": "c0319683",
   "metadata": {
    "ExecuteTime": {
     "end_time": "2021-09-04T22:26:12.215210Z",
     "start_time": "2021-09-04T22:26:12.172325Z"
    }
   },
   "outputs": [
    {
     "name": "stdout",
     "output_type": "stream",
     "text": [
      "Hinge Loss Custom: 1.16\n"
     ]
    }
   ],
   "source": [
    "print(\"Hinge Loss Custom:\",hinge(y_true, y_pred))"
   ]
  },
  {
   "cell_type": "code",
   "execution_count": 15,
   "id": "eb88e6dd",
   "metadata": {
    "ExecuteTime": {
     "end_time": "2021-09-04T22:26:12.227178Z",
     "start_time": "2021-09-04T22:26:12.217205Z"
    }
   },
   "outputs": [
    {
     "name": "stdout",
     "output_type": "stream",
     "text": [
      "Hinge Loss Keras: 1.16\n"
     ]
    }
   ],
   "source": [
    "keras_hinge = tf.keras.losses.Hinge()\n",
    "print(\"Hinge Loss Keras:\",keras_hinge(y_true, y_pred).numpy())"
   ]
  },
  {
   "cell_type": "markdown",
   "id": "1c681851",
   "metadata": {},
   "source": [
    "# Soal 4\n",
    "Build F1 score calculation with custom metrics."
   ]
  },
  {
   "cell_type": "code",
   "execution_count": 16,
   "id": "991498a0",
   "metadata": {
    "ExecuteTime": {
     "end_time": "2021-09-04T22:26:12.247124Z",
     "start_time": "2021-09-04T22:26:12.229172Z"
    }
   },
   "outputs": [],
   "source": [
    "def f1_score(y_true:np.ndarray, y_pred:np.ndarray):\n",
    "    TP = sum([1 for actual, pred in zip(y_true, y_pred) if actual==1 and pred == 1])\n",
    "    TN = sum([1 for actual, pred in zip(y_true, y_pred) if actual==0 and pred == 0])\n",
    "    FP = sum([1 for actual, pred in zip(y_true, y_pred) if actual==0 and pred == 1])\n",
    "    FN = sum([1 for actual, pred in zip(y_true, y_pred) if actual==1 and pred == 0])\n",
    "    return TP/(TP+((1/2)*(FP+FN)))"
   ]
  },
  {
   "cell_type": "code",
   "execution_count": 17,
   "id": "a477cb9e",
   "metadata": {
    "ExecuteTime": {
     "end_time": "2021-09-04T22:26:12.369796Z",
     "start_time": "2021-09-04T22:26:12.249119Z"
    }
   },
   "outputs": [
    {
     "name": "stdout",
     "output_type": "stream",
     "text": [
      "F1 Score Custom: 0.32558139534883723\n"
     ]
    }
   ],
   "source": [
    "print(\"F1 Score Custom:\",f1_score(y_true, y_pred))"
   ]
  },
  {
   "cell_type": "code",
   "execution_count": 18,
   "id": "64250635",
   "metadata": {
    "ExecuteTime": {
     "end_time": "2021-09-04T22:26:12.389940Z",
     "start_time": "2021-09-04T22:26:12.372789Z"
    },
    "code_folding": [
     0
    ]
   },
   "outputs": [],
   "source": [
    "def keras_f1_score(y_true:np.ndarray, y_pred:np.ndarray):\n",
    "    TP = tf.keras.metrics.TruePositives()\n",
    "    TP.update_state(y_true, y_pred)\n",
    "    TP = TP.result().numpy()\n",
    "    \n",
    "    TN = tf.keras.metrics.TrueNegatives()\n",
    "    TN.update_state(y_true, y_pred)\n",
    "    TN = TN.result().numpy()\n",
    "    \n",
    "    FP = tf.keras.metrics.FalsePositives()\n",
    "    FP.update_state(y_true, y_pred)\n",
    "    FP = FP.result().numpy()\n",
    "    \n",
    "    FN = tf.keras.metrics.FalseNegatives()\n",
    "    FN.update_state(y_true, y_pred)\n",
    "    FN = FN.result().numpy()\n",
    "    \n",
    "    return TP/(TP+((1/2)*(FP+FN)))"
   ]
  },
  {
   "cell_type": "code",
   "execution_count": 19,
   "id": "0495fbdc",
   "metadata": {
    "ExecuteTime": {
     "end_time": "2021-09-04T22:26:12.425582Z",
     "start_time": "2021-09-04T22:26:12.395152Z"
    }
   },
   "outputs": [
    {
     "name": "stdout",
     "output_type": "stream",
     "text": [
      "F1 Score Keras: 0.32558139534883723\n"
     ]
    }
   ],
   "source": [
    "print(\"F1 Score Keras:\",keras_f1_score(y_true, y_pred))"
   ]
  }
 ],
 "metadata": {
  "kernelspec": {
   "display_name": "tf",
   "language": "python",
   "name": "tf"
  },
  "language_info": {
   "codemirror_mode": {
    "name": "ipython",
    "version": 3
   },
   "file_extension": ".py",
   "mimetype": "text/x-python",
   "name": "python",
   "nbconvert_exporter": "python",
   "pygments_lexer": "ipython3",
   "version": "3.9.6"
  },
  "nbTranslate": {
   "displayLangs": [
    "en"
   ],
   "hotkey": "alt-t",
   "langInMainMenu": true,
   "sourceLang": "en",
   "targetLang": "fr",
   "useGoogleTranslate": true
  },
  "toc": {
   "base_numbering": 1,
   "nav_menu": {},
   "number_sections": true,
   "sideBar": true,
   "skip_h1_title": false,
   "title_cell": "Table of Contents",
   "title_sidebar": "Contents",
   "toc_cell": true,
   "toc_position": {},
   "toc_section_display": true,
   "toc_window_display": false
  }
 },
 "nbformat": 4,
 "nbformat_minor": 5
}
